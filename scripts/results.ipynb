{
 "cells": [
  {
   "cell_type": "markdown",
   "id": "5a535c38",
   "metadata": {},
   "source": [
    "# Аналіз даних у PySpark — результати"
   ]
  },
  {
   "cell_type": "markdown",
   "id": "1d13a02b",
   "metadata": {},
   "source": [
    "## Імпорт бібліотек"
   ]
  },
  {
   "cell_type": "code",
   "execution_count": 1,
   "id": "f048729f",
   "metadata": {},
   "outputs": [],
   "source": [
    "from pyspark.sql import SparkSession, DataFrame\n",
    "from pyspark.sql.functions import col, when, sum as _sum, round, lit\n",
    "from pyspark.sql.types import LongType, IntegerType, DoubleType\n",
    "from pyspark.sql.functions import sum as spark_sum"
   ]
  },
  {
   "cell_type": "markdown",
   "id": "028d6b04",
   "metadata": {},
   "source": [
    "## Створення сесії Spark"
   ]
  },
  {
   "cell_type": "code",
   "execution_count": 2,
   "id": "0a071d03",
   "metadata": {},
   "outputs": [
    {
     "name": "stderr",
     "output_type": "stream",
     "text": [
      "Setting default log level to \"WARN\".\n",
      "To adjust logging level use sc.setLogLevel(newLevel). For SparkR, use setLogLevel(newLevel).\n",
      "25/08/13 13:05:30 WARN NativeCodeLoader: Unable to load native-hadoop library for your platform... using builtin-java classes where applicable\n"
     ]
    }
   ],
   "source": [
    "if 'spark' in locals():\n",
    "    try:\n",
    "        spark.stop()\n",
    "    except Exception:\n",
    "        pass\n",
    "    \n",
    "spark = (\n",
    "    SparkSession.builder\n",
    "    .appName(\"GoIT-PySpark-Homework-03\")\n",
    "    .config(\"spark.eventLog.gcMetrics.youngGenerationGarbageCollectors\", \"G1 Young Generation\")\n",
    "    .config(\"spark.eventLog.gcMetrics.oldGenerationGarbageCollectors\", \"G1 Old Generation,G1 Concurrent GC\")\n",
    "    .getOrCreate()\n",
    ")"
   ]
  },
  {
   "cell_type": "code",
   "execution_count": 3,
   "id": "02b73304",
   "metadata": {},
   "outputs": [],
   "source": [
    "spark.sparkContext.setLogLevel(\"ERROR\")\n",
    "\n",
    "try:\n",
    "    jvm = spark._jvm\n",
    "    log_manager = jvm.org.apache.log4j.LogManager\n",
    "    native_loader_logger = log_manager.getLogger(\"org.apache.hadoop.util.NativeCodeLoader\")\n",
    "    native_loader_logger.setLevel(jvm.org.apache.log4j.Level.ERROR)\n",
    "except Exception as e:\n",
    "    pass"
   ]
  },
  {
   "cell_type": "markdown",
   "id": "70b4a028",
   "metadata": {},
   "source": [
    "## Завантаження даних"
   ]
  },
  {
   "cell_type": "code",
   "execution_count": 4,
   "id": "ae7f7e7c",
   "metadata": {},
   "outputs": [],
   "source": [
    "DATA_DIR = \"../data\"\n",
    "users_raw = spark.read.csv(f\"{DATA_DIR}/users.csv\", header=True, inferSchema=True)\n",
    "purchases_raw = spark.read.csv(f\"{DATA_DIR}/purchases.csv\", header=True, inferSchema=True)\n",
    "products_raw = spark.read.csv(f\"{DATA_DIR}/products.csv\", header=True, inferSchema=True)"
   ]
  },
  {
   "cell_type": "markdown",
   "id": "8e170b13",
   "metadata": {},
   "source": [
    "## Допоміжні функції"
   ]
  },
  {
   "cell_type": "code",
   "execution_count": 5,
   "id": "7adc9a51",
   "metadata": {},
   "outputs": [],
   "source": [
    "def normalize_blank_to_null(df: DataFrame, cols: list) -> DataFrame:\n",
    "    \"\"\"\n",
    "    Normalize blank strings and nulls to None in specified columns of a DataFrame.\n",
    "    Parameters:\n",
    "        df (DataFrame): The input DataFrame.\n",
    "        cols (list): List of column names to normalize.\n",
    "    Returns:\n",
    "        DataFrame: A new DataFrame with normalized columns.\n",
    "    \"\"\"\n",
    "    d = df\n",
    "    for c in cols:\n",
    "        d = d.withColumn(c, when((col(c) == \"\") | col(c).isNull(), None).otherwise(col(c)))\n",
    "    return d"
   ]
  },
  {
   "cell_type": "markdown",
   "id": "befaa65c",
   "metadata": {},
   "source": [
    "## Очищення даних"
   ]
  },
  {
   "cell_type": "code",
   "execution_count": 6,
   "id": "cda77e36",
   "metadata": {},
   "outputs": [
    {
     "name": "stdout",
     "output_type": "stream",
     "text": [
      "Rows after cleaning:\n",
      "  users: 95\n",
      "  products: 47\n",
      "  purchases: 195\n"
     ]
    }
   ],
   "source": [
    "users_req = [\"user_id\", \"name\", \"age\", \"email\"]\n",
    "users_df = (\n",
    "    normalize_blank_to_null(users_raw, users_req)\n",
    "    .dropna(subset=users_req)\n",
    "    .withColumn(\"user_id\", col(\"user_id\").cast(LongType()))\n",
    "    .withColumn(\"age\", col(\"age\").cast(IntegerType()))\n",
    ")\n",
    "\n",
    "products_req = [\"product_id\", \"product_name\", \"category\", \"price\"]\n",
    "products_df = (\n",
    "    normalize_blank_to_null(products_raw, products_req)\n",
    "    .dropna(subset=products_req)\n",
    "    .withColumn(\"product_id\", col(\"product_id\").cast(LongType()))\n",
    "    .withColumn(\"price\", col(\"price\").cast(DoubleType()))\n",
    ")\n",
    "\n",
    "purchases_req = [\"purchase_id\", \"user_id\", \"product_id\", \"date\", \"quantity\"]\n",
    "purchases_df = (\n",
    "    normalize_blank_to_null(purchases_raw, purchases_req)\n",
    "    .dropna(subset=purchases_req)\n",
    "    .withColumn(\"purchase_id\", col(\"purchase_id\").cast(LongType()))\n",
    "    .withColumn(\"user_id\", col(\"user_id\").cast(LongType()))\n",
    "    .withColumn(\"product_id\", col(\"product_id\").cast(LongType()))\n",
    "    .withColumn(\"quantity\", col(\"quantity\").cast(IntegerType()))\n",
    ")\n",
    "\n",
    "print(\"Rows after cleaning:\")\n",
    "print(\"  users:\", users_df.count())\n",
    "print(\"  products:\", products_df.count())\n",
    "print(\"  purchases:\", purchases_df.count())"
   ]
  },
  {
   "cell_type": "markdown",
   "id": "242c3987",
   "metadata": {},
   "source": [
    "## Підготовка: об'єднання та розрахунок суми покупки"
   ]
  },
  {
   "cell_type": "code",
   "execution_count": 7,
   "id": "ca464588",
   "metadata": {},
   "outputs": [
    {
     "name": "stdout",
     "output_type": "stream",
     "text": [
      "+-------+----------+-----------+----------+--------+-----------+-----+---+------------------+\n",
      "|user_id|product_id|purchase_id|date      |quantity|category   |price|age|amount            |\n",
      "+-------+----------+-----------+----------+--------+-----------+-----+---+------------------+\n",
      "|52     |9         |1          |2022-01-01|1       |Beauty     |6.0  |39 |6.0               |\n",
      "|93     |37        |2          |2022-01-02|8       |Clothing   |6.0  |25 |48.0              |\n",
      "|15     |33        |3          |2022-01-03|1       |Home       |9.4  |30 |9.4               |\n",
      "|72     |42        |4          |2022-01-04|9       |Beauty     |9.1  |39 |81.89999999999999 |\n",
      "|21     |24        |6          |2022-01-06|7       |Electronics|2.1  |37 |14.700000000000001|\n",
      "|87     |32        |8          |2022-01-08|3       |Home       |8.8  |38 |26.400000000000002|\n",
      "|75     |32        |9          |2022-01-09|2       |Home       |8.8  |40 |17.6              |\n",
      "|75     |24        |10         |2022-01-10|9       |Electronics|2.1  |40 |18.900000000000002|\n",
      "|88     |41        |11         |2022-01-11|8       |Sports     |5.9  |25 |47.2              |\n",
      "|100    |49        |12         |2022-01-12|7       |Sports     |9.7  |26 |67.89999999999999 |\n",
      "|24     |49        |13         |2022-01-13|9       |Sports     |9.7  |46 |87.3              |\n",
      "|3      |12        |14         |2022-01-14|4       |Home       |1.3  |36 |5.2               |\n",
      "|22     |39        |15         |2022-01-15|4       |Home       |7.3  |45 |29.2              |\n",
      "|53     |2         |16         |2022-01-16|1       |Home       |8.3  |38 |8.3               |\n",
      "|2      |3         |17         |2022-01-17|8       |Electronics|9.2  |48 |73.6              |\n",
      "|88     |49        |18         |2022-01-18|3       |Sports     |9.7  |25 |29.099999999999998|\n",
      "|38     |49        |20         |2022-01-20|2       |Sports     |9.7  |41 |19.4              |\n",
      "|2      |17        |21         |2022-01-21|2       |Electronics|8.1  |48 |16.2              |\n",
      "|64     |49        |22         |2022-01-22|7       |Sports     |9.7  |26 |67.89999999999999 |\n",
      "|60     |2         |23         |2022-01-23|6       |Home       |8.3  |37 |49.800000000000004|\n",
      "+-------+----------+-----------+----------+--------+-----------+-----+---+------------------+\n",
      "only showing top 20 rows\n",
      "\n"
     ]
    }
   ],
   "source": [
    "full_df = (\n",
    "    purchases_df\n",
    "    .join(products_df.select(\"product_id\", \"category\", \"price\"), on=\"product_id\", how=\"inner\")\n",
    "    .join(users_df.select(\"user_id\", \"age\"), on=\"user_id\", how=\"inner\")\n",
    "    .withColumn(\"amount\", col(\"quantity\") * col(\"price\"))\n",
    ")\n",
    "full_df.show(truncate=False)"
   ]
  },
  {
   "cell_type": "markdown",
   "id": "03c16bfe",
   "metadata": {},
   "source": [
    "## Результати"
   ]
  },
  {
   "cell_type": "markdown",
   "id": "750560a2",
   "metadata": {},
   "source": [
    "### Загальна сума покупок за категоріями"
   ]
  },
  {
   "cell_type": "code",
   "execution_count": 8,
   "id": "6b3feeef",
   "metadata": {},
   "outputs": [
    {
     "name": "stdout",
     "output_type": "stream",
     "text": [
      "+-----------+------------------+\n",
      "|category   |total_spend       |\n",
      "+-----------+------------------+\n",
      "|Sports     |1755.4999999999998|\n",
      "|Home       |1438.8999999999999|\n",
      "|Electronics|1141.8999999999999|\n",
      "|Clothing   |696.1             |\n",
      "|Beauty     |441.69999999999993|\n",
      "+-----------+------------------+\n",
      "\n"
     ]
    }
   ],
   "source": [
    "total_by_category_df = full_df.groupBy(\"category\").agg(_sum(\"amount\").alias(\"total_spend\")).orderBy(col(\"total_spend\").desc())\n",
    "total_by_category_df.show(truncate=False)"
   ]
  },
  {
   "cell_type": "markdown",
   "id": "1a9b8c21",
   "metadata": {},
   "source": [
    "### Сума покупок за категоріями для віку 18–25 включно"
   ]
  },
  {
   "cell_type": "code",
   "execution_count": 9,
   "id": "ef77cc35",
   "metadata": {},
   "outputs": [
    {
     "name": "stdout",
     "output_type": "stream",
     "text": [
      "+-----------+------------------+\n",
      "|category   |spend_18_25       |\n",
      "+-----------+------------------+\n",
      "|Home       |361.1             |\n",
      "|Sports     |310.49999999999994|\n",
      "|Electronics|249.6             |\n",
      "|Clothing   |245.0             |\n",
      "|Beauty     |41.400000000000006|\n",
      "+-----------+------------------+\n",
      "\n"
     ]
    }
   ],
   "source": [
    "age_filtered_df = full_df.where((col(\"age\") >= 18) & (col(\"age\") <= 25))\n",
    "sum_18_25_by_category_df = age_filtered_df.groupBy(\"category\").agg(_sum(\"amount\").alias(\"spend_18_25\")).orderBy(col(\"spend_18_25\").desc())\n",
    "sum_18_25_by_category_df.show(truncate=False)"
   ]
  },
  {
   "cell_type": "markdown",
   "id": "3cbbef4f",
   "metadata": {},
   "source": [
    "### Частка витрат 18–25 від сумарних витрат"
   ]
  },
  {
   "cell_type": "code",
   "execution_count": 10,
   "id": "451203e8",
   "metadata": {},
   "outputs": [
    {
     "name": "stdout",
     "output_type": "stream",
     "text": [
      "+-----------+------------------+-----------+--------------------+\n",
      "|category   |spend_18_25       |total_18_25|share               |\n",
      "+-----------+------------------+-----------+--------------------+\n",
      "|Home       |361.1             |1207.6     |0.2990228552500829  |\n",
      "|Sports     |310.49999999999994|1207.6     |0.25712156343159986 |\n",
      "|Electronics|249.6             |1207.6     |0.20669095727061942 |\n",
      "|Clothing   |245.0             |1207.6     |0.20288174892348462 |\n",
      "|Beauty     |41.400000000000006|1207.6     |0.034282875124213325|\n",
      "+-----------+------------------+-----------+--------------------+\n",
      "\n"
     ]
    }
   ],
   "source": [
    "share_18_25_df = sum_18_25_by_category_df.crossJoin(\n",
    "    sum_18_25_by_category_df.agg(spark_sum(\"spend_18_25\").alias(\"total_18_25\"))\n",
    ").withColumn(\"share\", col(\"spend_18_25\") / col(\"total_18_25\"))\n",
    "\n",
    "share_18_25_df.select(\"category\", \"spend_18_25\", \"total_18_25\", \"share\"\n",
    "                      ).orderBy(col(\"share\").desc()\n",
    "                                ).show(truncate=False)"
   ]
  },
  {
   "cell_type": "markdown",
   "id": "4c619909",
   "metadata": {},
   "source": [
    "### Топ-3 категорії за відсотком витрат (18–25)"
   ]
  },
  {
   "cell_type": "code",
   "execution_count": 11,
   "id": "c33876a0",
   "metadata": {},
   "outputs": [
    {
     "name": "stdout",
     "output_type": "stream",
     "text": [
      "+-----------+-------+\n",
      "|category   |percent|\n",
      "+-----------+-------+\n",
      "|Home       |29.9   |\n",
      "|Sports     |25.71  |\n",
      "|Electronics|20.67  |\n",
      "+-----------+-------+\n",
      "\n"
     ]
    }
   ],
   "source": [
    "top3_18_25_pct_df = (\n",
    "    share_18_25_df\n",
    "    .withColumn(\"percent\", round(col(\"share\") * lit(100.0), 2))\n",
    "    .select(\"category\", \"percent\")\n",
    "    .orderBy(col(\"percent\").desc())\n",
    "    .limit(3)\n",
    ")\n",
    "\n",
    "top3_18_25_pct_df.show(truncate=False)"
   ]
  }
 ],
 "metadata": {
  "kernelspec": {
   "display_name": "Python 3",
   "language": "python",
   "name": "python3"
  },
  "language_info": {
   "codemirror_mode": {
    "name": "ipython",
    "version": 3
   },
   "file_extension": ".py",
   "mimetype": "text/x-python",
   "name": "python",
   "nbconvert_exporter": "python",
   "pygments_lexer": "ipython3",
   "version": "3.11.13"
  }
 },
 "nbformat": 4,
 "nbformat_minor": 5
}
